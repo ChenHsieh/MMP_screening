{
 "cells": [
  {
   "attachments": {},
   "cell_type": "markdown",
   "metadata": {},
   "source": [
    "# Generate verification code for the mentor preprocessed table"
   ]
  },
  {
   "cell_type": "code",
   "execution_count": 6,
   "metadata": {},
   "outputs": [],
   "source": [
    "import pandas as pd\n",
    "import random\n",
    "import string\n",
    "\n",
    "def generate_verification_code(length):\n",
    "    characters = string.ascii_letters + string.digits\n",
    "    return ''.join(random.choice(characters) for _ in range(length))\n",
    "\n",
    "mentors_table = pd.read_csv(\"mentors.csv\")\n",
    "mentors_table[\"combined_mentor_id\"] = mentors_table[\"mentor_id\"] + \" \" + mentors_table[\"name\"]\n",
    "mentors_table[\"verification_code\"] = mentors_table[\"combined_mentor_id\"].apply(lambda x: generate_verification_code(10))\n",
    "mentors_table.to_csv(\"mentors_processed.csv\", index=False)"
   ]
  }
 ],
 "metadata": {
  "kernelspec": {
   "display_name": "Python 3",
   "language": "python",
   "name": "python3"
  },
  "language_info": {
   "codemirror_mode": {
    "name": "ipython",
    "version": 3
   },
   "file_extension": ".py",
   "mimetype": "text/x-python",
   "name": "python",
   "nbconvert_exporter": "python",
   "pygments_lexer": "ipython3",
   "version": "3.6.13"
  },
  "orig_nbformat": 4
 },
 "nbformat": 4,
 "nbformat_minor": 2
}
